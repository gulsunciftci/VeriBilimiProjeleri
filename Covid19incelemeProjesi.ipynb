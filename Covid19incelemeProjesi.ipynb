{
 "cells": [
  {
   "cell_type": "markdown",
   "metadata": {},
   "source": [
    "https://www.kaggle.com/datasets/allen-institute-for-ai/CORD-19-research-challenge/data?select=metadata.csv"
   ]
  },
  {
   "cell_type": "markdown",
   "metadata": {},
   "source": [
    "https://www.kaggle.com/code/moghazy/covid-19-ir-ranking-system-web-scraping"
   ]
  },
  {
   "cell_type": "code",
   "execution_count": 5,
   "metadata": {},
   "outputs": [],
   "source": [
    "import numpy as np\n",
    "import pandas as pd\n",
    "import matplotlib.pyplot as plt\n",
    "import seaborn as sns"
   ]
  },
  {
   "cell_type": "code",
   "execution_count": 6,
   "metadata": {},
   "outputs": [],
   "source": [
    "df=pd.read_csv(\"covid19_1210.csv\") #veri kümesi içe aktarıldı\n"
   ]
  },
  {
   "cell_type": "code",
   "execution_count": 7,
   "metadata": {},
   "outputs": [
    {
     "data": {
      "text/html": [
       "<div>\n",
       "<style scoped>\n",
       "    .dataframe tbody tr th:only-of-type {\n",
       "        vertical-align: middle;\n",
       "    }\n",
       "\n",
       "    .dataframe tbody tr th {\n",
       "        vertical-align: top;\n",
       "    }\n",
       "\n",
       "    .dataframe thead th {\n",
       "        text-align: right;\n",
       "    }\n",
       "</style>\n",
       "<table border=\"1\" class=\"dataframe\">\n",
       "  <thead>\n",
       "    <tr style=\"text-align: right;\">\n",
       "      <th></th>\n",
       "      <th>FIPS</th>\n",
       "      <th>Admin2</th>\n",
       "      <th>Province_State</th>\n",
       "      <th>Country_Region</th>\n",
       "      <th>Last_Update</th>\n",
       "      <th>Lat</th>\n",
       "      <th>Long_</th>\n",
       "      <th>Confirmed</th>\n",
       "      <th>Deaths</th>\n",
       "      <th>Recovered</th>\n",
       "      <th>Active</th>\n",
       "      <th>Combined_Key</th>\n",
       "      <th>Incident_Rate</th>\n",
       "      <th>Case_Fatality_Ratio</th>\n",
       "    </tr>\n",
       "  </thead>\n",
       "  <tbody>\n",
       "    <tr>\n",
       "      <th>0</th>\n",
       "      <td>NaN</td>\n",
       "      <td>NaN</td>\n",
       "      <td>NaN</td>\n",
       "      <td>Afghanistan</td>\n",
       "      <td>2022-10-12 04:22:51</td>\n",
       "      <td>33.93911</td>\n",
       "      <td>67.709953</td>\n",
       "      <td>200626.0</td>\n",
       "      <td>7807.0</td>\n",
       "      <td>NaN</td>\n",
       "      <td>NaN</td>\n",
       "      <td>Afghanistan</td>\n",
       "      <td>515.372592</td>\n",
       "      <td>3.891320</td>\n",
       "    </tr>\n",
       "    <tr>\n",
       "      <th>1</th>\n",
       "      <td>NaN</td>\n",
       "      <td>NaN</td>\n",
       "      <td>NaN</td>\n",
       "      <td>Albania</td>\n",
       "      <td>2022-10-12 04:22:51</td>\n",
       "      <td>41.15330</td>\n",
       "      <td>20.168300</td>\n",
       "      <td>332534.0</td>\n",
       "      <td>3590.0</td>\n",
       "      <td>NaN</td>\n",
       "      <td>NaN</td>\n",
       "      <td>Albania</td>\n",
       "      <td>11555.146292</td>\n",
       "      <td>1.079589</td>\n",
       "    </tr>\n",
       "    <tr>\n",
       "      <th>2</th>\n",
       "      <td>NaN</td>\n",
       "      <td>NaN</td>\n",
       "      <td>NaN</td>\n",
       "      <td>Algeria</td>\n",
       "      <td>2022-10-12 04:22:51</td>\n",
       "      <td>28.03390</td>\n",
       "      <td>1.659600</td>\n",
       "      <td>270716.0</td>\n",
       "      <td>6881.0</td>\n",
       "      <td>NaN</td>\n",
       "      <td>NaN</td>\n",
       "      <td>Algeria</td>\n",
       "      <td>617.353617</td>\n",
       "      <td>2.541778</td>\n",
       "    </tr>\n",
       "    <tr>\n",
       "      <th>3</th>\n",
       "      <td>NaN</td>\n",
       "      <td>NaN</td>\n",
       "      <td>NaN</td>\n",
       "      <td>Andorra</td>\n",
       "      <td>2022-10-12 04:22:51</td>\n",
       "      <td>42.50630</td>\n",
       "      <td>1.521800</td>\n",
       "      <td>46275.0</td>\n",
       "      <td>155.0</td>\n",
       "      <td>NaN</td>\n",
       "      <td>NaN</td>\n",
       "      <td>Andorra</td>\n",
       "      <td>59891.283246</td>\n",
       "      <td>0.334954</td>\n",
       "    </tr>\n",
       "    <tr>\n",
       "      <th>4</th>\n",
       "      <td>NaN</td>\n",
       "      <td>NaN</td>\n",
       "      <td>NaN</td>\n",
       "      <td>Angola</td>\n",
       "      <td>2022-10-12 04:22:51</td>\n",
       "      <td>-11.20270</td>\n",
       "      <td>17.873900</td>\n",
       "      <td>103131.0</td>\n",
       "      <td>1917.0</td>\n",
       "      <td>NaN</td>\n",
       "      <td>NaN</td>\n",
       "      <td>Angola</td>\n",
       "      <td>313.789810</td>\n",
       "      <td>1.858801</td>\n",
       "    </tr>\n",
       "  </tbody>\n",
       "</table>\n",
       "</div>"
      ],
      "text/plain": [
       "  FIPS  Admin2  Province_State Country_Region          Last_Update       Lat  \\\n",
       "0  NaN     NaN             NaN    Afghanistan  2022-10-12 04:22:51  33.93911   \n",
       "1  NaN     NaN             NaN        Albania  2022-10-12 04:22:51  41.15330   \n",
       "2  NaN     NaN             NaN        Algeria  2022-10-12 04:22:51  28.03390   \n",
       "3  NaN     NaN             NaN        Andorra  2022-10-12 04:22:51  42.50630   \n",
       "4  NaN     NaN             NaN         Angola  2022-10-12 04:22:51 -11.20270   \n",
       "\n",
       "       Long_  Confirmed  Deaths  Recovered  Active Combined_Key  \\\n",
       "0  67.709953   200626.0  7807.0        NaN     NaN  Afghanistan   \n",
       "1  20.168300   332534.0  3590.0        NaN     NaN      Albania   \n",
       "2   1.659600   270716.0  6881.0        NaN     NaN      Algeria   \n",
       "3   1.521800    46275.0   155.0        NaN     NaN      Andorra   \n",
       "4  17.873900   103131.0  1917.0        NaN     NaN       Angola   \n",
       "\n",
       "   Incident_Rate  Case_Fatality_Ratio  \n",
       "0     515.372592             3.891320  \n",
       "1   11555.146292             1.079589  \n",
       "2     617.353617             2.541778  \n",
       "3   59891.283246             0.334954  \n",
       "4     313.789810             1.858801  "
      ]
     },
     "execution_count": 7,
     "metadata": {},
     "output_type": "execute_result"
    }
   ],
   "source": [
    "df.head()"
   ]
  },
  {
   "cell_type": "code",
   "execution_count": 8,
   "metadata": {},
   "outputs": [
    {
     "data": {
      "text/html": [
       "<div>\n",
       "<style scoped>\n",
       "    .dataframe tbody tr th:only-of-type {\n",
       "        vertical-align: middle;\n",
       "    }\n",
       "\n",
       "    .dataframe tbody tr th {\n",
       "        vertical-align: top;\n",
       "    }\n",
       "\n",
       "    .dataframe thead th {\n",
       "        text-align: right;\n",
       "    }\n",
       "</style>\n",
       "<table border=\"1\" class=\"dataframe\">\n",
       "  <thead>\n",
       "    <tr style=\"text-align: right;\">\n",
       "      <th></th>\n",
       "      <th>FIPS</th>\n",
       "      <th>Admin2</th>\n",
       "      <th>Province_State</th>\n",
       "      <th>Country_Region</th>\n",
       "      <th>Last_Update</th>\n",
       "      <th>Lat</th>\n",
       "      <th>Long_</th>\n",
       "      <th>Confirmed</th>\n",
       "      <th>Deaths</th>\n",
       "      <th>Recovered</th>\n",
       "      <th>Active</th>\n",
       "      <th>Combined_Key</th>\n",
       "      <th>Incident_Rate</th>\n",
       "      <th>Case_Fatality_Ratio</th>\n",
       "    </tr>\n",
       "  </thead>\n",
       "  <tbody>\n",
       "    <tr>\n",
       "      <th>0</th>\n",
       "      <td>NaN</td>\n",
       "      <td>NaN</td>\n",
       "      <td>NaN</td>\n",
       "      <td>Afghanistan</td>\n",
       "      <td>2022-10-12 04:22:51</td>\n",
       "      <td>33.939110</td>\n",
       "      <td>67.709953</td>\n",
       "      <td>200626.0</td>\n",
       "      <td>7807.0</td>\n",
       "      <td>NaN</td>\n",
       "      <td>NaN</td>\n",
       "      <td>Afghanistan</td>\n",
       "      <td>515.372592</td>\n",
       "      <td>3.891320</td>\n",
       "    </tr>\n",
       "    <tr>\n",
       "      <th>1</th>\n",
       "      <td>NaN</td>\n",
       "      <td>NaN</td>\n",
       "      <td>NaN</td>\n",
       "      <td>Albania</td>\n",
       "      <td>2022-10-12 04:22:51</td>\n",
       "      <td>41.153300</td>\n",
       "      <td>20.168300</td>\n",
       "      <td>332534.0</td>\n",
       "      <td>3590.0</td>\n",
       "      <td>NaN</td>\n",
       "      <td>NaN</td>\n",
       "      <td>Albania</td>\n",
       "      <td>11555.146292</td>\n",
       "      <td>1.079589</td>\n",
       "    </tr>\n",
       "    <tr>\n",
       "      <th>2</th>\n",
       "      <td>NaN</td>\n",
       "      <td>NaN</td>\n",
       "      <td>NaN</td>\n",
       "      <td>Algeria</td>\n",
       "      <td>2022-10-12 04:22:51</td>\n",
       "      <td>28.033900</td>\n",
       "      <td>1.659600</td>\n",
       "      <td>270716.0</td>\n",
       "      <td>6881.0</td>\n",
       "      <td>NaN</td>\n",
       "      <td>NaN</td>\n",
       "      <td>Algeria</td>\n",
       "      <td>617.353617</td>\n",
       "      <td>2.541778</td>\n",
       "    </tr>\n",
       "    <tr>\n",
       "      <th>3</th>\n",
       "      <td>NaN</td>\n",
       "      <td>NaN</td>\n",
       "      <td>NaN</td>\n",
       "      <td>Andorra</td>\n",
       "      <td>2022-10-12 04:22:51</td>\n",
       "      <td>42.506300</td>\n",
       "      <td>1.521800</td>\n",
       "      <td>46275.0</td>\n",
       "      <td>155.0</td>\n",
       "      <td>NaN</td>\n",
       "      <td>NaN</td>\n",
       "      <td>Andorra</td>\n",
       "      <td>59891.283246</td>\n",
       "      <td>0.334954</td>\n",
       "    </tr>\n",
       "    <tr>\n",
       "      <th>4</th>\n",
       "      <td>NaN</td>\n",
       "      <td>NaN</td>\n",
       "      <td>NaN</td>\n",
       "      <td>Angola</td>\n",
       "      <td>2022-10-12 04:22:51</td>\n",
       "      <td>-11.202700</td>\n",
       "      <td>17.873900</td>\n",
       "      <td>103131.0</td>\n",
       "      <td>1917.0</td>\n",
       "      <td>NaN</td>\n",
       "      <td>NaN</td>\n",
       "      <td>Angola</td>\n",
       "      <td>313.789810</td>\n",
       "      <td>1.858801</td>\n",
       "    </tr>\n",
       "    <tr>\n",
       "      <th>...</th>\n",
       "      <td>...</td>\n",
       "      <td>...</td>\n",
       "      <td>...</td>\n",
       "      <td>...</td>\n",
       "      <td>...</td>\n",
       "      <td>...</td>\n",
       "      <td>...</td>\n",
       "      <td>...</td>\n",
       "      <td>...</td>\n",
       "      <td>...</td>\n",
       "      <td>...</td>\n",
       "      <td>...</td>\n",
       "      <td>...</td>\n",
       "      <td>...</td>\n",
       "    </tr>\n",
       "    <tr>\n",
       "      <th>4011</th>\n",
       "      <td>NaN</td>\n",
       "      <td>NaN</td>\n",
       "      <td>NaN</td>\n",
       "      <td>West Bank and Gaza</td>\n",
       "      <td>2022-10-12 04:22:51</td>\n",
       "      <td>31.952200</td>\n",
       "      <td>35.233200</td>\n",
       "      <td>702804.0</td>\n",
       "      <td>5707.0</td>\n",
       "      <td>NaN</td>\n",
       "      <td>NaN</td>\n",
       "      <td>West Bank and Gaza</td>\n",
       "      <td>13776.645543</td>\n",
       "      <td>0.812033</td>\n",
       "    </tr>\n",
       "    <tr>\n",
       "      <th>4012</th>\n",
       "      <td>NaN</td>\n",
       "      <td>NaN</td>\n",
       "      <td>NaN</td>\n",
       "      <td>Winter Olympics 2022</td>\n",
       "      <td>2022-10-12 04:22:51</td>\n",
       "      <td>39.904200</td>\n",
       "      <td>116.407400</td>\n",
       "      <td>535.0</td>\n",
       "      <td>0.0</td>\n",
       "      <td>NaN</td>\n",
       "      <td>NaN</td>\n",
       "      <td>Winter Olympics 2022</td>\n",
       "      <td>NaN</td>\n",
       "      <td>0.000000</td>\n",
       "    </tr>\n",
       "    <tr>\n",
       "      <th>4013</th>\n",
       "      <td>NaN</td>\n",
       "      <td>NaN</td>\n",
       "      <td>NaN</td>\n",
       "      <td>Yemen</td>\n",
       "      <td>2022-10-12 04:22:51</td>\n",
       "      <td>15.552727</td>\n",
       "      <td>48.516388</td>\n",
       "      <td>11939.0</td>\n",
       "      <td>2158.0</td>\n",
       "      <td>NaN</td>\n",
       "      <td>NaN</td>\n",
       "      <td>Yemen</td>\n",
       "      <td>40.028877</td>\n",
       "      <td>18.075216</td>\n",
       "    </tr>\n",
       "    <tr>\n",
       "      <th>4014</th>\n",
       "      <td>NaN</td>\n",
       "      <td>NaN</td>\n",
       "      <td>NaN</td>\n",
       "      <td>Zambia</td>\n",
       "      <td>2022-10-12 04:22:51</td>\n",
       "      <td>-13.133897</td>\n",
       "      <td>27.849332</td>\n",
       "      <td>333624.0</td>\n",
       "      <td>4017.0</td>\n",
       "      <td>NaN</td>\n",
       "      <td>NaN</td>\n",
       "      <td>Zambia</td>\n",
       "      <td>1814.756302</td>\n",
       "      <td>1.204050</td>\n",
       "    </tr>\n",
       "    <tr>\n",
       "      <th>4015</th>\n",
       "      <td>NaN</td>\n",
       "      <td>NaN</td>\n",
       "      <td>NaN</td>\n",
       "      <td>Zimbabwe</td>\n",
       "      <td>2022-10-12 04:22:51</td>\n",
       "      <td>-19.015438</td>\n",
       "      <td>29.154857</td>\n",
       "      <td>257749.0</td>\n",
       "      <td>5604.0</td>\n",
       "      <td>NaN</td>\n",
       "      <td>NaN</td>\n",
       "      <td>Zimbabwe</td>\n",
       "      <td>1734.173895</td>\n",
       "      <td>2.174208</td>\n",
       "    </tr>\n",
       "  </tbody>\n",
       "</table>\n",
       "<p>4016 rows × 14 columns</p>\n",
       "</div>"
      ],
      "text/plain": [
       "     FIPS  Admin2  Province_State        Country_Region          Last_Update  \\\n",
       "0     NaN     NaN             NaN           Afghanistan  2022-10-12 04:22:51   \n",
       "1     NaN     NaN             NaN               Albania  2022-10-12 04:22:51   \n",
       "2     NaN     NaN             NaN               Algeria  2022-10-12 04:22:51   \n",
       "3     NaN     NaN             NaN               Andorra  2022-10-12 04:22:51   \n",
       "4     NaN     NaN             NaN                Angola  2022-10-12 04:22:51   \n",
       "...   ...     ...             ...                   ...                  ...   \n",
       "4011  NaN     NaN             NaN    West Bank and Gaza  2022-10-12 04:22:51   \n",
       "4012  NaN     NaN             NaN  Winter Olympics 2022  2022-10-12 04:22:51   \n",
       "4013  NaN     NaN             NaN                 Yemen  2022-10-12 04:22:51   \n",
       "4014  NaN     NaN             NaN                Zambia  2022-10-12 04:22:51   \n",
       "4015  NaN     NaN             NaN              Zimbabwe  2022-10-12 04:22:51   \n",
       "\n",
       "            Lat       Long_  Confirmed  Deaths  Recovered  Active  \\\n",
       "0     33.939110   67.709953   200626.0  7807.0        NaN     NaN   \n",
       "1     41.153300   20.168300   332534.0  3590.0        NaN     NaN   \n",
       "2     28.033900    1.659600   270716.0  6881.0        NaN     NaN   \n",
       "3     42.506300    1.521800    46275.0   155.0        NaN     NaN   \n",
       "4    -11.202700   17.873900   103131.0  1917.0        NaN     NaN   \n",
       "...         ...         ...        ...     ...        ...     ...   \n",
       "4011  31.952200   35.233200   702804.0  5707.0        NaN     NaN   \n",
       "4012  39.904200  116.407400      535.0     0.0        NaN     NaN   \n",
       "4013  15.552727   48.516388    11939.0  2158.0        NaN     NaN   \n",
       "4014 -13.133897   27.849332   333624.0  4017.0        NaN     NaN   \n",
       "4015 -19.015438   29.154857   257749.0  5604.0        NaN     NaN   \n",
       "\n",
       "              Combined_Key  Incident_Rate  Case_Fatality_Ratio  \n",
       "0              Afghanistan     515.372592             3.891320  \n",
       "1                  Albania   11555.146292             1.079589  \n",
       "2                  Algeria     617.353617             2.541778  \n",
       "3                  Andorra   59891.283246             0.334954  \n",
       "4                   Angola     313.789810             1.858801  \n",
       "...                    ...            ...                  ...  \n",
       "4011    West Bank and Gaza   13776.645543             0.812033  \n",
       "4012  Winter Olympics 2022            NaN             0.000000  \n",
       "4013                 Yemen      40.028877            18.075216  \n",
       "4014                Zambia    1814.756302             1.204050  \n",
       "4015              Zimbabwe    1734.173895             2.174208  \n",
       "\n",
       "[4016 rows x 14 columns]"
      ]
     },
     "execution_count": 8,
     "metadata": {},
     "output_type": "execute_result"
    }
   ],
   "source": [
    "df"
   ]
  },
  {
   "cell_type": "code",
   "execution_count": 9,
   "metadata": {},
   "outputs": [
    {
     "data": {
      "text/plain": [
       "0       False\n",
       "1       False\n",
       "2       False\n",
       "3       False\n",
       "4       False\n",
       "        ...  \n",
       "4011    False\n",
       "4012    False\n",
       "4013    False\n",
       "4014    False\n",
       "4015    False\n",
       "Length: 4016, dtype: bool"
      ]
     },
     "execution_count": 9,
     "metadata": {},
     "output_type": "execute_result"
    }
   ],
   "source": [
    "df.duplicated() #tekrar eden değerler için bool değer döndürür"
   ]
  },
  {
   "cell_type": "code",
   "execution_count": 10,
   "metadata": {},
   "outputs": [
    {
     "data": {
      "text/html": [
       "<div>\n",
       "<style scoped>\n",
       "    .dataframe tbody tr th:only-of-type {\n",
       "        vertical-align: middle;\n",
       "    }\n",
       "\n",
       "    .dataframe tbody tr th {\n",
       "        vertical-align: top;\n",
       "    }\n",
       "\n",
       "    .dataframe thead th {\n",
       "        text-align: right;\n",
       "    }\n",
       "</style>\n",
       "<table border=\"1\" class=\"dataframe\">\n",
       "  <thead>\n",
       "    <tr style=\"text-align: right;\">\n",
       "      <th></th>\n",
       "      <th>FIPS</th>\n",
       "      <th>Admin2</th>\n",
       "      <th>Province_State</th>\n",
       "      <th>Country_Region</th>\n",
       "      <th>Last_Update</th>\n",
       "      <th>Lat</th>\n",
       "      <th>Long_</th>\n",
       "      <th>Confirmed</th>\n",
       "      <th>Deaths</th>\n",
       "      <th>Recovered</th>\n",
       "      <th>Active</th>\n",
       "      <th>Combined_Key</th>\n",
       "      <th>Incident_Rate</th>\n",
       "      <th>Case_Fatality_Ratio</th>\n",
       "    </tr>\n",
       "  </thead>\n",
       "  <tbody>\n",
       "    <tr>\n",
       "      <th>0</th>\n",
       "      <td>NaN</td>\n",
       "      <td>NaN</td>\n",
       "      <td>NaN</td>\n",
       "      <td>Afghanistan</td>\n",
       "      <td>2022-10-12 04:22:51</td>\n",
       "      <td>33.939110</td>\n",
       "      <td>67.709953</td>\n",
       "      <td>200626.0</td>\n",
       "      <td>7807.0</td>\n",
       "      <td>NaN</td>\n",
       "      <td>NaN</td>\n",
       "      <td>Afghanistan</td>\n",
       "      <td>515.372592</td>\n",
       "      <td>3.891320</td>\n",
       "    </tr>\n",
       "    <tr>\n",
       "      <th>1</th>\n",
       "      <td>NaN</td>\n",
       "      <td>NaN</td>\n",
       "      <td>NaN</td>\n",
       "      <td>Albania</td>\n",
       "      <td>2022-10-12 04:22:51</td>\n",
       "      <td>41.153300</td>\n",
       "      <td>20.168300</td>\n",
       "      <td>332534.0</td>\n",
       "      <td>3590.0</td>\n",
       "      <td>NaN</td>\n",
       "      <td>NaN</td>\n",
       "      <td>Albania</td>\n",
       "      <td>11555.146292</td>\n",
       "      <td>1.079589</td>\n",
       "    </tr>\n",
       "    <tr>\n",
       "      <th>2</th>\n",
       "      <td>NaN</td>\n",
       "      <td>NaN</td>\n",
       "      <td>NaN</td>\n",
       "      <td>Algeria</td>\n",
       "      <td>2022-10-12 04:22:51</td>\n",
       "      <td>28.033900</td>\n",
       "      <td>1.659600</td>\n",
       "      <td>270716.0</td>\n",
       "      <td>6881.0</td>\n",
       "      <td>NaN</td>\n",
       "      <td>NaN</td>\n",
       "      <td>Algeria</td>\n",
       "      <td>617.353617</td>\n",
       "      <td>2.541778</td>\n",
       "    </tr>\n",
       "    <tr>\n",
       "      <th>3</th>\n",
       "      <td>NaN</td>\n",
       "      <td>NaN</td>\n",
       "      <td>NaN</td>\n",
       "      <td>Andorra</td>\n",
       "      <td>2022-10-12 04:22:51</td>\n",
       "      <td>42.506300</td>\n",
       "      <td>1.521800</td>\n",
       "      <td>46275.0</td>\n",
       "      <td>155.0</td>\n",
       "      <td>NaN</td>\n",
       "      <td>NaN</td>\n",
       "      <td>Andorra</td>\n",
       "      <td>59891.283246</td>\n",
       "      <td>0.334954</td>\n",
       "    </tr>\n",
       "    <tr>\n",
       "      <th>4</th>\n",
       "      <td>NaN</td>\n",
       "      <td>NaN</td>\n",
       "      <td>NaN</td>\n",
       "      <td>Angola</td>\n",
       "      <td>2022-10-12 04:22:51</td>\n",
       "      <td>-11.202700</td>\n",
       "      <td>17.873900</td>\n",
       "      <td>103131.0</td>\n",
       "      <td>1917.0</td>\n",
       "      <td>NaN</td>\n",
       "      <td>NaN</td>\n",
       "      <td>Angola</td>\n",
       "      <td>313.789810</td>\n",
       "      <td>1.858801</td>\n",
       "    </tr>\n",
       "    <tr>\n",
       "      <th>...</th>\n",
       "      <td>...</td>\n",
       "      <td>...</td>\n",
       "      <td>...</td>\n",
       "      <td>...</td>\n",
       "      <td>...</td>\n",
       "      <td>...</td>\n",
       "      <td>...</td>\n",
       "      <td>...</td>\n",
       "      <td>...</td>\n",
       "      <td>...</td>\n",
       "      <td>...</td>\n",
       "      <td>...</td>\n",
       "      <td>...</td>\n",
       "      <td>...</td>\n",
       "    </tr>\n",
       "    <tr>\n",
       "      <th>4011</th>\n",
       "      <td>NaN</td>\n",
       "      <td>NaN</td>\n",
       "      <td>NaN</td>\n",
       "      <td>West Bank and Gaza</td>\n",
       "      <td>2022-10-12 04:22:51</td>\n",
       "      <td>31.952200</td>\n",
       "      <td>35.233200</td>\n",
       "      <td>702804.0</td>\n",
       "      <td>5707.0</td>\n",
       "      <td>NaN</td>\n",
       "      <td>NaN</td>\n",
       "      <td>West Bank and Gaza</td>\n",
       "      <td>13776.645543</td>\n",
       "      <td>0.812033</td>\n",
       "    </tr>\n",
       "    <tr>\n",
       "      <th>4012</th>\n",
       "      <td>NaN</td>\n",
       "      <td>NaN</td>\n",
       "      <td>NaN</td>\n",
       "      <td>Winter Olympics 2022</td>\n",
       "      <td>2022-10-12 04:22:51</td>\n",
       "      <td>39.904200</td>\n",
       "      <td>116.407400</td>\n",
       "      <td>535.0</td>\n",
       "      <td>0.0</td>\n",
       "      <td>NaN</td>\n",
       "      <td>NaN</td>\n",
       "      <td>Winter Olympics 2022</td>\n",
       "      <td>NaN</td>\n",
       "      <td>0.000000</td>\n",
       "    </tr>\n",
       "    <tr>\n",
       "      <th>4013</th>\n",
       "      <td>NaN</td>\n",
       "      <td>NaN</td>\n",
       "      <td>NaN</td>\n",
       "      <td>Yemen</td>\n",
       "      <td>2022-10-12 04:22:51</td>\n",
       "      <td>15.552727</td>\n",
       "      <td>48.516388</td>\n",
       "      <td>11939.0</td>\n",
       "      <td>2158.0</td>\n",
       "      <td>NaN</td>\n",
       "      <td>NaN</td>\n",
       "      <td>Yemen</td>\n",
       "      <td>40.028877</td>\n",
       "      <td>18.075216</td>\n",
       "    </tr>\n",
       "    <tr>\n",
       "      <th>4014</th>\n",
       "      <td>NaN</td>\n",
       "      <td>NaN</td>\n",
       "      <td>NaN</td>\n",
       "      <td>Zambia</td>\n",
       "      <td>2022-10-12 04:22:51</td>\n",
       "      <td>-13.133897</td>\n",
       "      <td>27.849332</td>\n",
       "      <td>333624.0</td>\n",
       "      <td>4017.0</td>\n",
       "      <td>NaN</td>\n",
       "      <td>NaN</td>\n",
       "      <td>Zambia</td>\n",
       "      <td>1814.756302</td>\n",
       "      <td>1.204050</td>\n",
       "    </tr>\n",
       "    <tr>\n",
       "      <th>4015</th>\n",
       "      <td>NaN</td>\n",
       "      <td>NaN</td>\n",
       "      <td>NaN</td>\n",
       "      <td>Zimbabwe</td>\n",
       "      <td>2022-10-12 04:22:51</td>\n",
       "      <td>-19.015438</td>\n",
       "      <td>29.154857</td>\n",
       "      <td>257749.0</td>\n",
       "      <td>5604.0</td>\n",
       "      <td>NaN</td>\n",
       "      <td>NaN</td>\n",
       "      <td>Zimbabwe</td>\n",
       "      <td>1734.173895</td>\n",
       "      <td>2.174208</td>\n",
       "    </tr>\n",
       "  </tbody>\n",
       "</table>\n",
       "<p>4016 rows × 14 columns</p>\n",
       "</div>"
      ],
      "text/plain": [
       "     FIPS  Admin2  Province_State        Country_Region          Last_Update  \\\n",
       "0     NaN     NaN             NaN           Afghanistan  2022-10-12 04:22:51   \n",
       "1     NaN     NaN             NaN               Albania  2022-10-12 04:22:51   \n",
       "2     NaN     NaN             NaN               Algeria  2022-10-12 04:22:51   \n",
       "3     NaN     NaN             NaN               Andorra  2022-10-12 04:22:51   \n",
       "4     NaN     NaN             NaN                Angola  2022-10-12 04:22:51   \n",
       "...   ...     ...             ...                   ...                  ...   \n",
       "4011  NaN     NaN             NaN    West Bank and Gaza  2022-10-12 04:22:51   \n",
       "4012  NaN     NaN             NaN  Winter Olympics 2022  2022-10-12 04:22:51   \n",
       "4013  NaN     NaN             NaN                 Yemen  2022-10-12 04:22:51   \n",
       "4014  NaN     NaN             NaN                Zambia  2022-10-12 04:22:51   \n",
       "4015  NaN     NaN             NaN              Zimbabwe  2022-10-12 04:22:51   \n",
       "\n",
       "            Lat       Long_  Confirmed  Deaths  Recovered  Active  \\\n",
       "0     33.939110   67.709953   200626.0  7807.0        NaN     NaN   \n",
       "1     41.153300   20.168300   332534.0  3590.0        NaN     NaN   \n",
       "2     28.033900    1.659600   270716.0  6881.0        NaN     NaN   \n",
       "3     42.506300    1.521800    46275.0   155.0        NaN     NaN   \n",
       "4    -11.202700   17.873900   103131.0  1917.0        NaN     NaN   \n",
       "...         ...         ...        ...     ...        ...     ...   \n",
       "4011  31.952200   35.233200   702804.0  5707.0        NaN     NaN   \n",
       "4012  39.904200  116.407400      535.0     0.0        NaN     NaN   \n",
       "4013  15.552727   48.516388    11939.0  2158.0        NaN     NaN   \n",
       "4014 -13.133897   27.849332   333624.0  4017.0        NaN     NaN   \n",
       "4015 -19.015438   29.154857   257749.0  5604.0        NaN     NaN   \n",
       "\n",
       "              Combined_Key  Incident_Rate  Case_Fatality_Ratio  \n",
       "0              Afghanistan     515.372592             3.891320  \n",
       "1                  Albania   11555.146292             1.079589  \n",
       "2                  Algeria     617.353617             2.541778  \n",
       "3                  Andorra   59891.283246             0.334954  \n",
       "4                   Angola     313.789810             1.858801  \n",
       "...                    ...            ...                  ...  \n",
       "4011    West Bank and Gaza   13776.645543             0.812033  \n",
       "4012  Winter Olympics 2022            NaN             0.000000  \n",
       "4013                 Yemen      40.028877            18.075216  \n",
       "4014                Zambia    1814.756302             1.204050  \n",
       "4015              Zimbabwe    1734.173895             2.174208  \n",
       "\n",
       "[4016 rows x 14 columns]"
      ]
     },
     "execution_count": 10,
     "metadata": {},
     "output_type": "execute_result"
    }
   ],
   "source": [
    "df.drop_duplicates() #tekrar eden değerleri siler"
   ]
  },
  {
   "cell_type": "code",
   "execution_count": 11,
   "metadata": {},
   "outputs": [
    {
     "name": "stdout",
     "output_type": "stream",
     "text": [
      "      FIPS  Admin2  Province_State  Country_Region  Last_Update    Lat  Long_  \\\n",
      "0     True    True            True           False        False  False  False   \n",
      "1     True    True            True           False        False  False  False   \n",
      "2     True    True            True           False        False  False  False   \n",
      "3     True    True            True           False        False  False  False   \n",
      "4     True    True            True           False        False  False  False   \n",
      "...    ...     ...             ...             ...          ...    ...    ...   \n",
      "4011  True    True            True           False        False  False  False   \n",
      "4012  True    True            True           False        False  False  False   \n",
      "4013  True    True            True           False        False  False  False   \n",
      "4014  True    True            True           False        False  False  False   \n",
      "4015  True    True            True           False        False  False  False   \n",
      "\n",
      "      Confirmed  Deaths  Recovered  Active  Combined_Key  Incident_Rate  \\\n",
      "0         False   False       True    True         False          False   \n",
      "1         False   False       True    True         False          False   \n",
      "2         False   False       True    True         False          False   \n",
      "3         False   False       True    True         False          False   \n",
      "4         False   False       True    True         False          False   \n",
      "...         ...     ...        ...     ...           ...            ...   \n",
      "4011      False   False       True    True         False          False   \n",
      "4012      False   False       True    True         False           True   \n",
      "4013      False   False       True    True         False          False   \n",
      "4014      False   False       True    True         False          False   \n",
      "4015      False   False       True    True         False          False   \n",
      "\n",
      "      Case_Fatality_Ratio  \n",
      "0                   False  \n",
      "1                   False  \n",
      "2                   False  \n",
      "3                   False  \n",
      "4                   False  \n",
      "...                   ...  \n",
      "4011                False  \n",
      "4012                False  \n",
      "4013                False  \n",
      "4014                False  \n",
      "4015                False  \n",
      "\n",
      "[4016 rows x 14 columns]\n",
      "<class 'pandas.core.frame.DataFrame'>\n"
     ]
    }
   ],
   "source": [
    "x=df.isnull()  # verinin var olup olmamasına göre true yada false döner nan ise true döner\n",
    "print(x)\n",
    "print(type(x))"
   ]
  },
  {
   "cell_type": "code",
   "execution_count": 12,
   "metadata": {},
   "outputs": [
    {
     "name": "stdout",
     "output_type": "stream",
     "text": [
      "FIPS                    177\n",
      "Admin2                 4016\n",
      "Province_State         4016\n",
      "Country_Region         3839\n",
      "Last_Update            3839\n",
      "Lat                    3841\n",
      "Long_                  3841\n",
      "Confirmed              3839\n",
      "Deaths                 3839\n",
      "Recovered              4016\n",
      "Active                 4016\n",
      "Combined_Key           3839\n",
      "Incident_Rate          3844\n",
      "Case_Fatality_Ratio    3839\n",
      "dtype: int64\n",
      "<class 'pandas.core.series.Series'>\n",
      "\n"
     ]
    }
   ],
   "source": [
    "y=df.isnull().sum()\n",
    "print(y)\n",
    "print(type(y))\n",
    "print()"
   ]
  },
  {
   "cell_type": "code",
   "execution_count": 13,
   "metadata": {},
   "outputs": [
    {
     "name": "stdout",
     "output_type": "stream",
     "text": [
      "50801\n",
      "<class 'numpy.int64'>\n",
      "\n"
     ]
    }
   ],
   "source": [
    "z=df.isnull().sum().sum() #toplam nan değerlerini verir\n",
    "print(z)\n",
    "print(type(z))\n",
    "print()"
   ]
  },
  {
   "cell_type": "code",
   "execution_count": 14,
   "metadata": {},
   "outputs": [
    {
     "name": "stdout",
     "output_type": "stream",
     "text": [
      "       FIPS  Admin2  Province_State  Country_Region  Last_Update   Lat  Long_  \\\n",
      "0     False   False           False            True         True  True   True   \n",
      "1     False   False           False            True         True  True   True   \n",
      "2     False   False           False            True         True  True   True   \n",
      "3     False   False           False            True         True  True   True   \n",
      "4     False   False           False            True         True  True   True   \n",
      "...     ...     ...             ...             ...          ...   ...    ...   \n",
      "4011  False   False           False            True         True  True   True   \n",
      "4012  False   False           False            True         True  True   True   \n",
      "4013  False   False           False            True         True  True   True   \n",
      "4014  False   False           False            True         True  True   True   \n",
      "4015  False   False           False            True         True  True   True   \n",
      "\n",
      "      Confirmed  Deaths  Recovered  Active  Combined_Key  Incident_Rate  \\\n",
      "0          True    True      False   False          True           True   \n",
      "1          True    True      False   False          True           True   \n",
      "2          True    True      False   False          True           True   \n",
      "3          True    True      False   False          True           True   \n",
      "4          True    True      False   False          True           True   \n",
      "...         ...     ...        ...     ...           ...            ...   \n",
      "4011       True    True      False   False          True           True   \n",
      "4012       True    True      False   False          True          False   \n",
      "4013       True    True      False   False          True           True   \n",
      "4014       True    True      False   False          True           True   \n",
      "4015       True    True      False   False          True           True   \n",
      "\n",
      "      Case_Fatality_Ratio  \n",
      "0                    True  \n",
      "1                    True  \n",
      "2                    True  \n",
      "3                    True  \n",
      "4                    True  \n",
      "...                   ...  \n",
      "4011                 True  \n",
      "4012                 True  \n",
      "4013                 True  \n",
      "4014                 True  \n",
      "4015                 True  \n",
      "\n",
      "[4016 rows x 14 columns]\n",
      "<class 'pandas.core.frame.DataFrame'>\n"
     ]
    }
   ],
   "source": [
    "x=df.notnull()  # isnull ın tam tersi\n",
    "print(x)\n",
    "print(type(x))"
   ]
  },
  {
   "cell_type": "code",
   "execution_count": 15,
   "metadata": {},
   "outputs": [
    {
     "name": "stdout",
     "output_type": "stream",
     "text": [
      "FIPS                   3839\n",
      "Admin2                    0\n",
      "Province_State            0\n",
      "Country_Region          177\n",
      "Last_Update             177\n",
      "Lat                     175\n",
      "Long_                   175\n",
      "Confirmed               177\n",
      "Deaths                  177\n",
      "Recovered                 0\n",
      "Active                    0\n",
      "Combined_Key            177\n",
      "Incident_Rate           172\n",
      "Case_Fatality_Ratio     177\n",
      "dtype: int64\n",
      "<class 'pandas.core.series.Series'>\n",
      "\n"
     ]
    }
   ],
   "source": [
    "y=df.notnull().sum()\n",
    "print(y)\n",
    "print(type(y))\n",
    "print()"
   ]
  },
  {
   "cell_type": "code",
   "execution_count": 16,
   "metadata": {},
   "outputs": [
    {
     "name": "stdout",
     "output_type": "stream",
     "text": [
      "5423\n",
      "<class 'numpy.int64'>\n",
      "\n"
     ]
    }
   ],
   "source": [
    "z=df.notnull().sum().sum() #toplam nan değerlerini verir\n",
    "print(z)\n",
    "print(type(z))\n",
    "print()"
   ]
  },
  {
   "cell_type": "code",
   "execution_count": 17,
   "metadata": {},
   "outputs": [
    {
     "name": "stdout",
     "output_type": "stream",
     "text": [
      "Empty DataFrame\n",
      "Columns: [FIPS, Admin2, Province_State, Country_Region, Last_Update, Lat, Long_, Confirmed, Deaths, Recovered, Active, Combined_Key, Incident_Rate, Case_Fatality_Ratio]\n",
      "Index: []\n",
      "<class 'pandas.core.frame.DataFrame'>\n",
      "\n"
     ]
    }
   ],
   "source": [
    "f=df.dropna() #nan olan satırların tamamını siler\n",
    "print(f)\n",
    "print(type(f))\n",
    "print()"
   ]
  },
  {
   "cell_type": "code",
   "execution_count": 18,
   "metadata": {},
   "outputs": [
    {
     "name": "stdout",
     "output_type": "stream",
     "text": [
      "     FIPS  Admin2  Province_State        Country_Region          Last_Update  \\\n",
      "0     NaN     NaN             NaN           Afghanistan  2022-10-12 04:22:51   \n",
      "1     NaN     NaN             NaN               Albania  2022-10-12 04:22:51   \n",
      "2     NaN     NaN             NaN               Algeria  2022-10-12 04:22:51   \n",
      "3     NaN     NaN             NaN               Andorra  2022-10-12 04:22:51   \n",
      "4     NaN     NaN             NaN                Angola  2022-10-12 04:22:51   \n",
      "...   ...     ...             ...                   ...                  ...   \n",
      "4011  NaN     NaN             NaN    West Bank and Gaza  2022-10-12 04:22:51   \n",
      "4012  NaN     NaN             NaN  Winter Olympics 2022  2022-10-12 04:22:51   \n",
      "4013  NaN     NaN             NaN                 Yemen  2022-10-12 04:22:51   \n",
      "4014  NaN     NaN             NaN                Zambia  2022-10-12 04:22:51   \n",
      "4015  NaN     NaN             NaN              Zimbabwe  2022-10-12 04:22:51   \n",
      "\n",
      "            Lat       Long_  Confirmed  Deaths  Recovered  Active  \\\n",
      "0     33.939110   67.709953   200626.0  7807.0        NaN     NaN   \n",
      "1     41.153300   20.168300   332534.0  3590.0        NaN     NaN   \n",
      "2     28.033900    1.659600   270716.0  6881.0        NaN     NaN   \n",
      "3     42.506300    1.521800    46275.0   155.0        NaN     NaN   \n",
      "4    -11.202700   17.873900   103131.0  1917.0        NaN     NaN   \n",
      "...         ...         ...        ...     ...        ...     ...   \n",
      "4011  31.952200   35.233200   702804.0  5707.0        NaN     NaN   \n",
      "4012  39.904200  116.407400      535.0     0.0        NaN     NaN   \n",
      "4013  15.552727   48.516388    11939.0  2158.0        NaN     NaN   \n",
      "4014 -13.133897   27.849332   333624.0  4017.0        NaN     NaN   \n",
      "4015 -19.015438   29.154857   257749.0  5604.0        NaN     NaN   \n",
      "\n",
      "              Combined_Key  Incident_Rate  Case_Fatality_Ratio  \n",
      "0              Afghanistan     515.372592             3.891320  \n",
      "1                  Albania   11555.146292             1.079589  \n",
      "2                  Algeria     617.353617             2.541778  \n",
      "3                  Andorra   59891.283246             0.334954  \n",
      "4                   Angola     313.789810             1.858801  \n",
      "...                    ...            ...                  ...  \n",
      "4011    West Bank and Gaza   13776.645543             0.812033  \n",
      "4012  Winter Olympics 2022            NaN             0.000000  \n",
      "4013                 Yemen      40.028877            18.075216  \n",
      "4014                Zambia    1814.756302             1.204050  \n",
      "4015              Zimbabwe    1734.173895             2.174208  \n",
      "\n",
      "[4016 rows x 14 columns]\n",
      "<class 'pandas.core.frame.DataFrame'>\n",
      "\n"
     ]
    }
   ],
   "source": [
    "z=df.dropna(how=\"all\") #tüm veriler nan olduğunda sil\n",
    "print(z)\n",
    "print(type(z))\n",
    "print()"
   ]
  },
  {
   "cell_type": "code",
   "execution_count": 19,
   "metadata": {},
   "outputs": [
    {
     "name": "stdout",
     "output_type": "stream",
     "text": [
      "     FIPS  Admin2  Province_State        Country_Region          Last_Update  \\\n",
      "0     NaN     NaN             NaN           Afghanistan  2022-10-12 04:22:51   \n",
      "1     NaN     NaN             NaN               Albania  2022-10-12 04:22:51   \n",
      "2     NaN     NaN             NaN               Algeria  2022-10-12 04:22:51   \n",
      "3     NaN     NaN             NaN               Andorra  2022-10-12 04:22:51   \n",
      "4     NaN     NaN             NaN                Angola  2022-10-12 04:22:51   \n",
      "...   ...     ...             ...                   ...                  ...   \n",
      "4011  NaN     NaN             NaN    West Bank and Gaza  2022-10-12 04:22:51   \n",
      "4012  NaN     NaN             NaN  Winter Olympics 2022  2022-10-12 04:22:51   \n",
      "4013  NaN     NaN             NaN                 Yemen  2022-10-12 04:22:51   \n",
      "4014  NaN     NaN             NaN                Zambia  2022-10-12 04:22:51   \n",
      "4015  NaN     NaN             NaN              Zimbabwe  2022-10-12 04:22:51   \n",
      "\n",
      "            Lat       Long_  Confirmed  Deaths  Recovered  Active  \\\n",
      "0     33.939110   67.709953   200626.0  7807.0        NaN     NaN   \n",
      "1     41.153300   20.168300   332534.0  3590.0        NaN     NaN   \n",
      "2     28.033900    1.659600   270716.0  6881.0        NaN     NaN   \n",
      "3     42.506300    1.521800    46275.0   155.0        NaN     NaN   \n",
      "4    -11.202700   17.873900   103131.0  1917.0        NaN     NaN   \n",
      "...         ...         ...        ...     ...        ...     ...   \n",
      "4011  31.952200   35.233200   702804.0  5707.0        NaN     NaN   \n",
      "4012  39.904200  116.407400      535.0     0.0        NaN     NaN   \n",
      "4013  15.552727   48.516388    11939.0  2158.0        NaN     NaN   \n",
      "4014 -13.133897   27.849332   333624.0  4017.0        NaN     NaN   \n",
      "4015 -19.015438   29.154857   257749.0  5604.0        NaN     NaN   \n",
      "\n",
      "              Combined_Key  Incident_Rate  Case_Fatality_Ratio  \n",
      "0              Afghanistan     515.372592             3.891320  \n",
      "1                  Albania   11555.146292             1.079589  \n",
      "2                  Algeria     617.353617             2.541778  \n",
      "3                  Andorra   59891.283246             0.334954  \n",
      "4                   Angola     313.789810             1.858801  \n",
      "...                    ...            ...                  ...  \n",
      "4011    West Bank and Gaza   13776.645543             0.812033  \n",
      "4012  Winter Olympics 2022            NaN             0.000000  \n",
      "4013                 Yemen      40.028877            18.075216  \n",
      "4014                Zambia    1814.756302             1.204050  \n",
      "4015              Zimbabwe    1734.173895             2.174208  \n",
      "\n",
      "[4016 rows x 14 columns]\n",
      "<class 'pandas.core.frame.DataFrame'>\n",
      "\n"
     ]
    }
   ],
   "source": [
    "e=df.dropna(thresh=1) # yalnızca 1 tane nan olanları sil\n",
    "print(e)\n",
    "print(type(e))\n",
    "print()"
   ]
  },
  {
   "cell_type": "code",
   "execution_count": 20,
   "metadata": {},
   "outputs": [
    {
     "name": "stdout",
     "output_type": "stream",
     "text": [
      "<class 'pandas.core.frame.DataFrame'>\n",
      "RangeIndex: 4016 entries, 0 to 4015\n",
      "Data columns (total 14 columns):\n",
      " #   Column               Non-Null Count  Dtype  \n",
      "---  ------               --------------  -----  \n",
      " 0   FIPS                 3839 non-null   object \n",
      " 1   Admin2               0 non-null      float64\n",
      " 2   Province_State       0 non-null      float64\n",
      " 3   Country_Region       177 non-null    object \n",
      " 4   Last_Update          177 non-null    object \n",
      " 5   Lat                  175 non-null    float64\n",
      " 6   Long_                175 non-null    float64\n",
      " 7   Confirmed            177 non-null    float64\n",
      " 8   Deaths               177 non-null    float64\n",
      " 9   Recovered            0 non-null      float64\n",
      " 10  Active               0 non-null      float64\n",
      " 11  Combined_Key         177 non-null    object \n",
      " 12  Incident_Rate        172 non-null    float64\n",
      " 13  Case_Fatality_Ratio  177 non-null    float64\n",
      "dtypes: float64(10), object(4)\n",
      "memory usage: 439.4+ KB\n"
     ]
    }
   ],
   "source": [
    "df.info() #her bir sütunda null olmayan girdi sayısı ve sütunun veri tipi gibi bilgileri elde edebiliriz."
   ]
  },
  {
   "cell_type": "code",
   "execution_count": 21,
   "metadata": {},
   "outputs": [
    {
     "data": {
      "text/html": [
       "<div>\n",
       "<style scoped>\n",
       "    .dataframe tbody tr th:only-of-type {\n",
       "        vertical-align: middle;\n",
       "    }\n",
       "\n",
       "    .dataframe tbody tr th {\n",
       "        vertical-align: top;\n",
       "    }\n",
       "\n",
       "    .dataframe thead th {\n",
       "        text-align: right;\n",
       "    }\n",
       "</style>\n",
       "<table border=\"1\" class=\"dataframe\">\n",
       "  <thead>\n",
       "    <tr style=\"text-align: right;\">\n",
       "      <th></th>\n",
       "      <th>Admin2</th>\n",
       "      <th>Province_State</th>\n",
       "      <th>Lat</th>\n",
       "      <th>Long_</th>\n",
       "      <th>Confirmed</th>\n",
       "      <th>Deaths</th>\n",
       "      <th>Recovered</th>\n",
       "      <th>Active</th>\n",
       "      <th>Incident_Rate</th>\n",
       "      <th>Case_Fatality_Ratio</th>\n",
       "    </tr>\n",
       "  </thead>\n",
       "  <tbody>\n",
       "    <tr>\n",
       "      <th>count</th>\n",
       "      <td>0.0</td>\n",
       "      <td>0.0</td>\n",
       "      <td>175.000000</td>\n",
       "      <td>175.000000</td>\n",
       "      <td>1.770000e+02</td>\n",
       "      <td>177.000000</td>\n",
       "      <td>0.0</td>\n",
       "      <td>0.0</td>\n",
       "      <td>172.000000</td>\n",
       "      <td>177.000000</td>\n",
       "    </tr>\n",
       "    <tr>\n",
       "      <th>mean</th>\n",
       "      <td>NaN</td>\n",
       "      <td>NaN</td>\n",
       "      <td>17.275852</td>\n",
       "      <td>21.694100</td>\n",
       "      <td>1.219467e+06</td>\n",
       "      <td>11770.627119</td>\n",
       "      <td>NaN</td>\n",
       "      <td>NaN</td>\n",
       "      <td>15027.692930</td>\n",
       "      <td>1.520850</td>\n",
       "    </tr>\n",
       "    <tr>\n",
       "      <th>std</th>\n",
       "      <td>NaN</td>\n",
       "      <td>NaN</td>\n",
       "      <td>23.957947</td>\n",
       "      <td>65.236655</td>\n",
       "      <td>3.335249e+06</td>\n",
       "      <td>26783.766273</td>\n",
       "      <td>NaN</td>\n",
       "      <td>NaN</td>\n",
       "      <td>17541.139107</td>\n",
       "      <td>2.308684</td>\n",
       "    </tr>\n",
       "    <tr>\n",
       "      <th>min</th>\n",
       "      <td>NaN</td>\n",
       "      <td>NaN</td>\n",
       "      <td>-71.949900</td>\n",
       "      <td>-175.198200</td>\n",
       "      <td>9.000000e+00</td>\n",
       "      <td>0.000000</td>\n",
       "      <td>NaN</td>\n",
       "      <td>NaN</td>\n",
       "      <td>38.894293</td>\n",
       "      <td>0.000000</td>\n",
       "    </tr>\n",
       "    <tr>\n",
       "      <th>25%</th>\n",
       "      <td>NaN</td>\n",
       "      <td>NaN</td>\n",
       "      <td>3.525400</td>\n",
       "      <td>-4.771633</td>\n",
       "      <td>2.778200e+04</td>\n",
       "      <td>287.000000</td>\n",
       "      <td>NaN</td>\n",
       "      <td>NaN</td>\n",
       "      <td>803.038577</td>\n",
       "      <td>0.469543</td>\n",
       "    </tr>\n",
       "    <tr>\n",
       "      <th>50%</th>\n",
       "      <td>NaN</td>\n",
       "      <td>NaN</td>\n",
       "      <td>15.552727</td>\n",
       "      <td>21.758700</td>\n",
       "      <td>2.062500e+05</td>\n",
       "      <td>2158.000000</td>\n",
       "      <td>NaN</td>\n",
       "      <td>NaN</td>\n",
       "      <td>8085.478274</td>\n",
       "      <td>1.073566</td>\n",
       "    </tr>\n",
       "    <tr>\n",
       "      <th>75%</th>\n",
       "      <td>NaN</td>\n",
       "      <td>NaN</td>\n",
       "      <td>38.912350</td>\n",
       "      <td>47.175437</td>\n",
       "      <td>1.006070e+06</td>\n",
       "      <td>9372.000000</td>\n",
       "      <td>NaN</td>\n",
       "      <td>NaN</td>\n",
       "      <td>21952.065924</td>\n",
       "      <td>1.936380</td>\n",
       "    </tr>\n",
       "    <tr>\n",
       "      <th>max</th>\n",
       "      <td>NaN</td>\n",
       "      <td>NaN</td>\n",
       "      <td>64.963100</td>\n",
       "      <td>178.065000</td>\n",
       "      <td>3.498687e+07</td>\n",
       "      <td>158235.000000</td>\n",
       "      <td>NaN</td>\n",
       "      <td>NaN</td>\n",
       "      <td>62272.379044</td>\n",
       "      <td>22.222222</td>\n",
       "    </tr>\n",
       "  </tbody>\n",
       "</table>\n",
       "</div>"
      ],
      "text/plain": [
       "       Admin2  Province_State         Lat       Long_     Confirmed  \\\n",
       "count     0.0             0.0  175.000000  175.000000  1.770000e+02   \n",
       "mean      NaN             NaN   17.275852   21.694100  1.219467e+06   \n",
       "std       NaN             NaN   23.957947   65.236655  3.335249e+06   \n",
       "min       NaN             NaN  -71.949900 -175.198200  9.000000e+00   \n",
       "25%       NaN             NaN    3.525400   -4.771633  2.778200e+04   \n",
       "50%       NaN             NaN   15.552727   21.758700  2.062500e+05   \n",
       "75%       NaN             NaN   38.912350   47.175437  1.006070e+06   \n",
       "max       NaN             NaN   64.963100  178.065000  3.498687e+07   \n",
       "\n",
       "              Deaths  Recovered  Active  Incident_Rate  Case_Fatality_Ratio  \n",
       "count     177.000000        0.0     0.0     172.000000           177.000000  \n",
       "mean    11770.627119        NaN     NaN   15027.692930             1.520850  \n",
       "std     26783.766273        NaN     NaN   17541.139107             2.308684  \n",
       "min         0.000000        NaN     NaN      38.894293             0.000000  \n",
       "25%       287.000000        NaN     NaN     803.038577             0.469543  \n",
       "50%      2158.000000        NaN     NaN    8085.478274             1.073566  \n",
       "75%      9372.000000        NaN     NaN   21952.065924             1.936380  \n",
       "max    158235.000000        NaN     NaN   62272.379044            22.222222  "
      ]
     },
     "execution_count": 21,
     "metadata": {},
     "output_type": "execute_result"
    }
   ],
   "source": [
    "df.describe() #sayısal verilere sahip olan sütunların max, min , std…gibi istatiksel değerlerini döndürür."
   ]
  },
  {
   "cell_type": "code",
   "execution_count": 22,
   "metadata": {},
   "outputs": [
    {
     "data": {
      "text/plain": [
       "Index(['FIPS', 'Admin2', 'Province_State', 'Country_Region', 'Last_Update',\n",
       "       'Lat', 'Long_', 'Confirmed', 'Deaths', 'Recovered', 'Active',\n",
       "       'Combined_Key', 'Incident_Rate', 'Case_Fatality_Ratio'],\n",
       "      dtype='object')"
      ]
     },
     "execution_count": 22,
     "metadata": {},
     "output_type": "execute_result"
    }
   ],
   "source": [
    "df.columns"
   ]
  },
  {
   "cell_type": "code",
   "execution_count": 23,
   "metadata": {},
   "outputs": [
    {
     "data": {
      "text/plain": [
       "(4016, 14)"
      ]
     },
     "execution_count": 23,
     "metadata": {},
     "output_type": "execute_result"
    }
   ],
   "source": [
    "df.shape"
   ]
  },
  {
   "cell_type": "code",
   "execution_count": 24,
   "metadata": {},
   "outputs": [
    {
     "name": "stdout",
     "output_type": "stream",
     "text": [
      "<class 'pandas.core.frame.DataFrame'>\n",
      "RangeIndex: 4016 entries, 0 to 4015\n",
      "Data columns (total 14 columns):\n",
      " #   Column               Non-Null Count  Dtype  \n",
      "---  ------               --------------  -----  \n",
      " 0   FIPS                 3839 non-null   object \n",
      " 1   Admin2               0 non-null      float64\n",
      " 2   Province_State       0 non-null      float64\n",
      " 3   Country_Region       177 non-null    object \n",
      " 4   Last_Update          177 non-null    object \n",
      " 5   Lat                  175 non-null    float64\n",
      " 6   Long_                175 non-null    float64\n",
      " 7   Confirmed            177 non-null    float64\n",
      " 8   Deaths               177 non-null    float64\n",
      " 9   Recovered            0 non-null      float64\n",
      " 10  Active               0 non-null      float64\n",
      " 11  Combined_Key         177 non-null    object \n",
      " 12  Incident_Rate        172 non-null    float64\n",
      " 13  Case_Fatality_Ratio  177 non-null    float64\n",
      "dtypes: float64(10), object(4)\n",
      "memory usage: 439.4+ KB\n"
     ]
    }
   ],
   "source": [
    "  df.info()"
   ]
  },
  {
   "cell_type": "code",
   "execution_count": 25,
   "metadata": {},
   "outputs": [],
   "source": [
    "country=df[\"Country_Region\"].value_counts() # Elemeanların kaç adet olduğunu yazdırır."
   ]
  },
  {
   "cell_type": "code",
   "execution_count": 26,
   "metadata": {},
   "outputs": [
    {
     "data": {
      "text/plain": [
       "Gabon                  1\n",
       "Belize                 1\n",
       "Equatorial Guinea      1\n",
       "Moldova                1\n",
       "Congo (Brazzaville)    1\n",
       "                      ..\n",
       "Jamaica                1\n",
       "Guinea                 1\n",
       "Norway                 1\n",
       "Cabo Verde             1\n",
       "North Macedonia        1\n",
       "Name: Country_Region, Length: 177, dtype: int64"
      ]
     },
     "execution_count": 26,
     "metadata": {},
     "output_type": "execute_result"
    }
   ],
   "source": [
    "country"
   ]
  },
  {
   "cell_type": "code",
   "execution_count": 27,
   "metadata": {},
   "outputs": [
    {
     "data": {
      "text/plain": [
       "array(['Afghanistan', 'Albania', 'Algeria', 'Andorra', 'Angola',\n",
       "       'Antarctica', 'Antigua and Barbuda', 'Argentina', 'Armenia', nan,\n",
       "       'Austria', 'Azerbaijan', 'Bahamas', 'Bahrain', 'Bangladesh',\n",
       "       'Barbados', 'Belarus', 'Belize', 'Benin', 'Bhutan', 'Bolivia',\n",
       "       'Bosnia and Herzegovina', 'Botswana', 'Brunei', 'Bulgaria',\n",
       "       'Burkina Faso', 'Burma', 'Burundi', 'Cabo Verde', 'Cambodia',\n",
       "       'Cameroon', 'Central African Republic', 'Chad', 'Comoros',\n",
       "       'Congo (Brazzaville)', 'Congo (Kinshasa)', 'Costa Rica',\n",
       "       \"Cote d'Ivoire\", 'Croatia', 'Cuba', 'Cyprus', 'Czechia', 'Denmark',\n",
       "       'Diamond Princess', 'Djibouti', 'Dominica', 'Dominican Republic',\n",
       "       'Ecuador', 'Egypt', 'El Salvador', 'Equatorial Guinea', 'Eritrea',\n",
       "       'Estonia', 'Eswatini', 'Ethiopia', 'Fiji', 'Finland', 'France',\n",
       "       'Gabon', 'Gambia', 'Georgia', 'Ghana', 'Greece', 'Grenada',\n",
       "       'Guatemala', 'Guinea', 'Guinea-Bissau', 'Guyana', 'Haiti',\n",
       "       'Holy See', 'Honduras', 'Hungary', 'Iceland', 'Indonesia', 'Iran',\n",
       "       'Iraq', 'Ireland', 'Israel', 'Jamaica', 'Jordan', 'Kazakhstan',\n",
       "       'Kenya', 'Kiribati', 'Kosovo', 'Kuwait', 'Kyrgyzstan', 'Laos',\n",
       "       'Latvia', 'Lebanon', 'Lesotho', 'Liberia', 'Libya',\n",
       "       'Liechtenstein', 'Lithuania', 'Luxembourg', 'MS Zaandam',\n",
       "       'Madagascar', 'Malawi', 'Maldives', 'Mali', 'Malta',\n",
       "       'Marshall Islands', 'Mauritania', 'Mauritius', 'Micronesia',\n",
       "       'Moldova', 'Monaco', 'Mongolia', 'Montenegro', 'Morocco',\n",
       "       'Mozambique', 'Namibia', 'Nauru', 'Nepal', 'New Zealand',\n",
       "       'Nicaragua', 'Niger', 'Nigeria', 'North Macedonia', 'Norway',\n",
       "       'Oman', 'Palau', 'Panama', 'Papua New Guinea', 'Paraguay',\n",
       "       'Philippines', 'Poland', 'Portugal', 'Qatar', 'Romania', 'Rwanda',\n",
       "       'Saint Kitts and Nevis', 'Saint Lucia',\n",
       "       'Saint Vincent and the Grenadines', 'Samoa', 'San Marino',\n",
       "       'Sao Tome and Principe', 'Saudi Arabia', 'Senegal', 'Serbia',\n",
       "       'Seychelles', 'Sierra Leone', 'Singapore', 'Slovakia', 'Slovenia',\n",
       "       'Solomon Islands', 'Somalia', 'South Africa', 'South Sudan',\n",
       "       'Sri Lanka', 'Sudan', 'Summer Olympics 2020', 'Suriname',\n",
       "       'Switzerland', 'Syria', 'Taiwan*', 'Tajikistan', 'Tanzania',\n",
       "       'Thailand', 'Timor-Leste', 'Togo', 'Tonga', 'Trinidad and Tobago',\n",
       "       'Tunisia', 'Turkey', 'Tuvalu', 'Uganda', 'United Arab Emirates',\n",
       "       'Uruguay', 'Uzbekistan', 'Vanuatu', 'Venezuela', 'Vietnam',\n",
       "       'West Bank and Gaza', 'Winter Olympics 2022', 'Yemen', 'Zambia',\n",
       "       'Zimbabwe'], dtype=object)"
      ]
     },
     "execution_count": 27,
     "metadata": {},
     "output_type": "execute_result"
    }
   ],
   "source": [
    "df[\"Country_Region\"].unique() # Tekrar etmeyen değerleri ekrana getirir."
   ]
  },
  {
   "cell_type": "code",
   "execution_count": 28,
   "metadata": {},
   "outputs": [
    {
     "data": {
      "text/plain": [
       "177"
      ]
     },
     "execution_count": 28,
     "metadata": {},
     "output_type": "execute_result"
    }
   ],
   "source": [
    "df[\"Country_Region\"].nunique()"
   ]
  },
  {
   "cell_type": "code",
   "execution_count": 29,
   "metadata": {},
   "outputs": [
    {
     "data": {
      "text/html": [
       "<div>\n",
       "<style scoped>\n",
       "    .dataframe tbody tr th:only-of-type {\n",
       "        vertical-align: middle;\n",
       "    }\n",
       "\n",
       "    .dataframe tbody tr th {\n",
       "        vertical-align: top;\n",
       "    }\n",
       "\n",
       "    .dataframe thead th {\n",
       "        text-align: right;\n",
       "    }\n",
       "</style>\n",
       "<table border=\"1\" class=\"dataframe\">\n",
       "  <thead>\n",
       "    <tr style=\"text-align: right;\">\n",
       "      <th></th>\n",
       "      <th>FIPS</th>\n",
       "      <th>Admin2</th>\n",
       "      <th>Province_State</th>\n",
       "      <th>Country_Region</th>\n",
       "      <th>Last_Update</th>\n",
       "      <th>Lat</th>\n",
       "      <th>Long_</th>\n",
       "      <th>Confirmed</th>\n",
       "      <th>Deaths</th>\n",
       "      <th>Recovered</th>\n",
       "      <th>Active</th>\n",
       "      <th>Combined_Key</th>\n",
       "      <th>Incident_Rate</th>\n",
       "      <th>Case_Fatality_Ratio</th>\n",
       "    </tr>\n",
       "  </thead>\n",
       "  <tbody>\n",
       "    <tr>\n",
       "      <th>1</th>\n",
       "      <td>NaN</td>\n",
       "      <td>NaN</td>\n",
       "      <td>NaN</td>\n",
       "      <td>Albania</td>\n",
       "      <td>2022-10-12 04:22:51</td>\n",
       "      <td>41.1533</td>\n",
       "      <td>20.1683</td>\n",
       "      <td>332534.0</td>\n",
       "      <td>3590.0</td>\n",
       "      <td>NaN</td>\n",
       "      <td>NaN</td>\n",
       "      <td>Albania</td>\n",
       "      <td>11555.146292</td>\n",
       "      <td>1.079589</td>\n",
       "    </tr>\n",
       "    <tr>\n",
       "      <th>2</th>\n",
       "      <td>NaN</td>\n",
       "      <td>NaN</td>\n",
       "      <td>NaN</td>\n",
       "      <td>Algeria</td>\n",
       "      <td>2022-10-12 04:22:51</td>\n",
       "      <td>28.0339</td>\n",
       "      <td>1.6596</td>\n",
       "      <td>270716.0</td>\n",
       "      <td>6881.0</td>\n",
       "      <td>NaN</td>\n",
       "      <td>NaN</td>\n",
       "      <td>Algeria</td>\n",
       "      <td>617.353617</td>\n",
       "      <td>2.541778</td>\n",
       "    </tr>\n",
       "    <tr>\n",
       "      <th>3</th>\n",
       "      <td>NaN</td>\n",
       "      <td>NaN</td>\n",
       "      <td>NaN</td>\n",
       "      <td>Andorra</td>\n",
       "      <td>2022-10-12 04:22:51</td>\n",
       "      <td>42.5063</td>\n",
       "      <td>1.5218</td>\n",
       "      <td>46275.0</td>\n",
       "      <td>155.0</td>\n",
       "      <td>NaN</td>\n",
       "      <td>NaN</td>\n",
       "      <td>Andorra</td>\n",
       "      <td>59891.283246</td>\n",
       "      <td>0.334954</td>\n",
       "    </tr>\n",
       "  </tbody>\n",
       "</table>\n",
       "</div>"
      ],
      "text/plain": [
       "  FIPS  Admin2  Province_State Country_Region          Last_Update      Lat  \\\n",
       "1  NaN     NaN             NaN        Albania  2022-10-12 04:22:51  41.1533   \n",
       "2  NaN     NaN             NaN        Algeria  2022-10-12 04:22:51  28.0339   \n",
       "3  NaN     NaN             NaN        Andorra  2022-10-12 04:22:51  42.5063   \n",
       "\n",
       "     Long_  Confirmed  Deaths  Recovered  Active Combined_Key  Incident_Rate  \\\n",
       "1  20.1683   332534.0  3590.0        NaN     NaN      Albania   11555.146292   \n",
       "2   1.6596   270716.0  6881.0        NaN     NaN      Algeria     617.353617   \n",
       "3   1.5218    46275.0   155.0        NaN     NaN      Andorra   59891.283246   \n",
       "\n",
       "   Case_Fatality_Ratio  \n",
       "1             1.079589  \n",
       "2             2.541778  \n",
       "3             0.334954  "
      ]
     },
     "execution_count": 29,
     "metadata": {},
     "output_type": "execute_result"
    }
   ],
   "source": [
    "df.iloc[1:4]"
   ]
  },
  {
   "cell_type": "code",
   "execution_count": 30,
   "metadata": {},
   "outputs": [
    {
     "data": {
      "text/html": [
       "<div>\n",
       "<style scoped>\n",
       "    .dataframe tbody tr th:only-of-type {\n",
       "        vertical-align: middle;\n",
       "    }\n",
       "\n",
       "    .dataframe tbody tr th {\n",
       "        vertical-align: top;\n",
       "    }\n",
       "\n",
       "    .dataframe thead th {\n",
       "        text-align: right;\n",
       "    }\n",
       "</style>\n",
       "<table border=\"1\" class=\"dataframe\">\n",
       "  <thead>\n",
       "    <tr style=\"text-align: right;\">\n",
       "      <th></th>\n",
       "      <th>FIPS</th>\n",
       "      <th>Admin2</th>\n",
       "      <th>Province_State</th>\n",
       "      <th>Country_Region</th>\n",
       "      <th>Last_Update</th>\n",
       "      <th>Lat</th>\n",
       "      <th>Long_</th>\n",
       "      <th>Confirmed</th>\n",
       "      <th>Deaths</th>\n",
       "      <th>Recovered</th>\n",
       "      <th>Active</th>\n",
       "      <th>Combined_Key</th>\n",
       "      <th>Incident_Rate</th>\n",
       "      <th>Case_Fatality_Ratio</th>\n",
       "    </tr>\n",
       "  </thead>\n",
       "  <tbody>\n",
       "    <tr>\n",
       "      <th>676</th>\n",
       "      <td>NaN</td>\n",
       "      <td>NaN</td>\n",
       "      <td>NaN</td>\n",
       "      <td>Turkey</td>\n",
       "      <td>2022-10-12 04:22:51</td>\n",
       "      <td>38.9637</td>\n",
       "      <td>35.2433</td>\n",
       "      <td>16919638.0</td>\n",
       "      <td>101203.0</td>\n",
       "      <td>NaN</td>\n",
       "      <td>NaN</td>\n",
       "      <td>Turkey</td>\n",
       "      <td>20061.447917</td>\n",
       "      <td>0.598139</td>\n",
       "    </tr>\n",
       "  </tbody>\n",
       "</table>\n",
       "</div>"
      ],
      "text/plain": [
       "    FIPS  Admin2  Province_State Country_Region          Last_Update      Lat  \\\n",
       "676  NaN     NaN             NaN         Turkey  2022-10-12 04:22:51  38.9637   \n",
       "\n",
       "       Long_   Confirmed    Deaths  Recovered  Active Combined_Key  \\\n",
       "676  35.2433  16919638.0  101203.0        NaN     NaN       Turkey   \n",
       "\n",
       "     Incident_Rate  Case_Fatality_Ratio  \n",
       "676   20061.447917             0.598139  "
      ]
     },
     "execution_count": 30,
     "metadata": {},
     "output_type": "execute_result"
    }
   ],
   "source": [
    "df.loc[df[\"Country_Region\"] == \"Turkey\"]"
   ]
  },
  {
   "cell_type": "code",
   "execution_count": 31,
   "metadata": {},
   "outputs": [],
   "source": [
    "import seaborn as sns"
   ]
  },
  {
   "cell_type": "code",
   "execution_count": 32,
   "metadata": {},
   "outputs": [],
   "source": [
    "countries=df[\"Country_Region\"].unique()"
   ]
  },
  {
   "cell_type": "code",
   "execution_count": 33,
   "metadata": {},
   "outputs": [
    {
     "data": {
      "text/plain": [
       "array(['Afghanistan', 'Albania', 'Algeria', 'Andorra', 'Angola',\n",
       "       'Antarctica', 'Antigua and Barbuda', 'Argentina', 'Armenia', nan,\n",
       "       'Austria', 'Azerbaijan', 'Bahamas', 'Bahrain', 'Bangladesh',\n",
       "       'Barbados', 'Belarus', 'Belize', 'Benin', 'Bhutan', 'Bolivia',\n",
       "       'Bosnia and Herzegovina', 'Botswana', 'Brunei', 'Bulgaria',\n",
       "       'Burkina Faso', 'Burma', 'Burundi', 'Cabo Verde', 'Cambodia',\n",
       "       'Cameroon', 'Central African Republic', 'Chad', 'Comoros',\n",
       "       'Congo (Brazzaville)', 'Congo (Kinshasa)', 'Costa Rica',\n",
       "       \"Cote d'Ivoire\", 'Croatia', 'Cuba', 'Cyprus', 'Czechia', 'Denmark',\n",
       "       'Diamond Princess', 'Djibouti', 'Dominica', 'Dominican Republic',\n",
       "       'Ecuador', 'Egypt', 'El Salvador', 'Equatorial Guinea', 'Eritrea',\n",
       "       'Estonia', 'Eswatini', 'Ethiopia', 'Fiji', 'Finland', 'France',\n",
       "       'Gabon', 'Gambia', 'Georgia', 'Ghana', 'Greece', 'Grenada',\n",
       "       'Guatemala', 'Guinea', 'Guinea-Bissau', 'Guyana', 'Haiti',\n",
       "       'Holy See', 'Honduras', 'Hungary', 'Iceland', 'Indonesia', 'Iran',\n",
       "       'Iraq', 'Ireland', 'Israel', 'Jamaica', 'Jordan', 'Kazakhstan',\n",
       "       'Kenya', 'Kiribati', 'Kosovo', 'Kuwait', 'Kyrgyzstan', 'Laos',\n",
       "       'Latvia', 'Lebanon', 'Lesotho', 'Liberia', 'Libya',\n",
       "       'Liechtenstein', 'Lithuania', 'Luxembourg', 'MS Zaandam',\n",
       "       'Madagascar', 'Malawi', 'Maldives', 'Mali', 'Malta',\n",
       "       'Marshall Islands', 'Mauritania', 'Mauritius', 'Micronesia',\n",
       "       'Moldova', 'Monaco', 'Mongolia', 'Montenegro', 'Morocco',\n",
       "       'Mozambique', 'Namibia', 'Nauru', 'Nepal', 'New Zealand',\n",
       "       'Nicaragua', 'Niger', 'Nigeria', 'North Macedonia', 'Norway',\n",
       "       'Oman', 'Palau', 'Panama', 'Papua New Guinea', 'Paraguay',\n",
       "       'Philippines', 'Poland', 'Portugal', 'Qatar', 'Romania', 'Rwanda',\n",
       "       'Saint Kitts and Nevis', 'Saint Lucia',\n",
       "       'Saint Vincent and the Grenadines', 'Samoa', 'San Marino',\n",
       "       'Sao Tome and Principe', 'Saudi Arabia', 'Senegal', 'Serbia',\n",
       "       'Seychelles', 'Sierra Leone', 'Singapore', 'Slovakia', 'Slovenia',\n",
       "       'Solomon Islands', 'Somalia', 'South Africa', 'South Sudan',\n",
       "       'Sri Lanka', 'Sudan', 'Summer Olympics 2020', 'Suriname',\n",
       "       'Switzerland', 'Syria', 'Taiwan*', 'Tajikistan', 'Tanzania',\n",
       "       'Thailand', 'Timor-Leste', 'Togo', 'Tonga', 'Trinidad and Tobago',\n",
       "       'Tunisia', 'Turkey', 'Tuvalu', 'Uganda', 'United Arab Emirates',\n",
       "       'Uruguay', 'Uzbekistan', 'Vanuatu', 'Venezuela', 'Vietnam',\n",
       "       'West Bank and Gaza', 'Winter Olympics 2022', 'Yemen', 'Zambia',\n",
       "       'Zimbabwe'], dtype=object)"
      ]
     },
     "execution_count": 33,
     "metadata": {},
     "output_type": "execute_result"
    }
   ],
   "source": [
    "countries"
   ]
  },
  {
   "cell_type": "code",
   "execution_count": 34,
   "metadata": {},
   "outputs": [],
   "source": [
    "country = df[\"Country_Region\"].value_counts()\n",
    "num = country.values"
   ]
  },
  {
   "cell_type": "code",
   "execution_count": 35,
   "metadata": {},
   "outputs": [
    {
     "data": {
      "text/plain": [
       "array([1, 1, 1, 1, 1, 1, 1, 1, 1, 1, 1, 1, 1, 1, 1, 1, 1, 1, 1, 1, 1, 1,\n",
       "       1, 1, 1, 1, 1, 1, 1, 1, 1, 1, 1, 1, 1, 1, 1, 1, 1, 1, 1, 1, 1, 1,\n",
       "       1, 1, 1, 1, 1, 1, 1, 1, 1, 1, 1, 1, 1, 1, 1, 1, 1, 1, 1, 1, 1, 1,\n",
       "       1, 1, 1, 1, 1, 1, 1, 1, 1, 1, 1, 1, 1, 1, 1, 1, 1, 1, 1, 1, 1, 1,\n",
       "       1, 1, 1, 1, 1, 1, 1, 1, 1, 1, 1, 1, 1, 1, 1, 1, 1, 1, 1, 1, 1, 1,\n",
       "       1, 1, 1, 1, 1, 1, 1, 1, 1, 1, 1, 1, 1, 1, 1, 1, 1, 1, 1, 1, 1, 1,\n",
       "       1, 1, 1, 1, 1, 1, 1, 1, 1, 1, 1, 1, 1, 1, 1, 1, 1, 1, 1, 1, 1, 1,\n",
       "       1, 1, 1, 1, 1, 1, 1, 1, 1, 1, 1, 1, 1, 1, 1, 1, 1, 1, 1, 1, 1, 1,\n",
       "       1], dtype=int64)"
      ]
     },
     "execution_count": 35,
     "metadata": {},
     "output_type": "execute_result"
    }
   ],
   "source": [
    "num"
   ]
  },
  {
   "cell_type": "code",
   "execution_count": 36,
   "metadata": {},
   "outputs": [
    {
     "data": {
      "text/plain": [
       "{('Afghanistan', 7807.0): [0], ('Albania', 3590.0): [1], ('Algeria', 6881.0): [2], ('Andorra', 155.0): [3], ('Angola', 1917.0): [4], ('Antarctica', 0.0): [5], ('Antigua and Barbuda', 146.0): [6], ('Argentina', 129958.0): [7], ('Armenia', 8700.0): [8], (nan, nan): [9], (nan, nan): [10], (nan, nan): [11], (nan, nan): [12], (nan, nan): [13], (nan, nan): [14], (nan, nan): [15], (nan, nan): [16], ('Austria', 20857.0): [17], ('Azerbaijan', 9931.0): [18], ('Bahamas', 833.0): [19], ('Bahrain', 1521.0): [20], ('Bangladesh', 29386.0): [21], ('Barbados', 560.0): [22], ('Belarus', 7118.0): [23], (nan, nan): [24], (nan, nan): [25], (nan, nan): [26], (nan, nan): [27], (nan, nan): [28], (nan, nan): [29], (nan, nan): [30], (nan, nan): [31], (nan, nan): [32], (nan, nan): [33], (nan, nan): [34], (nan, nan): [35], ('Belize', 686.0): [36], ('Benin', 163.0): [37], ('Bhutan', 21.0): [38], ('Bolivia', 22237.0): [39], ('Bosnia and Herzegovina', 16155.0): [40], ('Botswana', 2790.0): [41], (nan, nan): [42], (nan, nan): [43], (nan, nan): [44], (nan, nan): [45], (nan, nan): [46], (nan, nan): [47], (nan, nan): [48], (nan, nan): [49], (nan, nan): [50], (nan, nan): [51], (nan, nan): [52], (nan, nan): [53], (nan, nan): [54], (nan, nan): [55], (nan, nan): [56], (nan, nan): [57], (nan, nan): [58], (nan, nan): [59], (nan, nan): [60], (nan, nan): [61], (nan, nan): [62], (nan, nan): [63], (nan, nan): [64], (nan, nan): [65], (nan, nan): [66], (nan, nan): [67], (nan, nan): [68], ('Brunei', 225.0): [69], ('Bulgaria', 37764.0): [70], ('Burkina Faso', 387.0): [71], ('Burma', 19467.0): [72], ('Burundi', 38.0): [73], ('Cabo Verde', 410.0): [74], ('Cambodia', 3056.0): [75], ('Cameroon', 1935.0): [76], (nan, nan): [77], (nan, nan): [78], (nan, nan): [79], (nan, nan): [80], (nan, nan): [81], (nan, nan): [82], (nan, nan): [83], (nan, nan): [84], (nan, nan): [85], (nan, nan): [86], (nan, nan): [87], (nan, nan): [88], (nan, nan): [89], (nan, nan): [90], (nan, nan): [91], (nan, nan): [92], ('Central African Republic', 113.0): [93], ('Chad', 193.0): [94], (nan, nan): [95], (nan, nan): [96], (nan, nan): [97], (nan, nan): [98], (nan, nan): [99], ...}"
      ]
     },
     "execution_count": 36,
     "metadata": {},
     "output_type": "execute_result"
    }
   ],
   "source": [
    "#result = df.groupby('Country_Region').get_group('').count() \n",
    "df.groupby(['Country_Region','Deaths']).groups"
   ]
  },
  {
   "cell_type": "code",
   "execution_count": 64,
   "metadata": {},
   "outputs": [],
   "source": [
    "death_turkey=df.groupby(\"Country_Region\")[\"Deaths\"].get_group('Turkey').sum()"
   ]
  },
  {
   "cell_type": "code",
   "execution_count": 66,
   "metadata": {},
   "outputs": [
    {
     "data": {
      "text/plain": [
       "101203.0"
      ]
     },
     "execution_count": 66,
     "metadata": {},
     "output_type": "execute_result"
    }
   ],
   "source": [
    "death_turkey"
   ]
  },
  {
   "cell_type": "code",
   "execution_count": 69,
   "metadata": {},
   "outputs": [],
   "source": [
    "death_df=df.groupby(\"Country_Region\")[\"Deaths\"].sum().reset_index()"
   ]
  },
  {
   "cell_type": "code",
   "execution_count": 72,
   "metadata": {},
   "outputs": [
    {
     "data": {
      "text/plain": [
       "<AxesSubplot:xlabel='Country_Region'>"
      ]
     },
     "execution_count": 72,
     "metadata": {},
     "output_type": "execute_result"
    },
    {
     "data": {
      "image/png": "[encoded data removed]",
      "text/plain": [
       "<Figure size 432x288 with 1 Axes>"
      ]
     },
     "metadata": {
      "needs_background": "light"
     },
     "output_type": "display_data"
    }
   ],
   "source": [
    "death_df.sort_values(\"Deaths\",ascending=False).head(20).plot(x=\"Country_Region\",y=\"Deaths\",kind=\"bar\")"
   ]
  },
  {
   "cell_type": "code",
   "execution_count": 73,
   "metadata": {},
   "outputs": [
    {
     "data": {
      "text/plain": [
       "<AxesSubplot:ylabel='Country_Region'>"
      ]
     },
     "execution_count": 73,
     "metadata": {},
     "output_type": "execute_result"
    },
    {
     "data": {
      "image/png": "[encoded data removed]",
      "text/plain": [
       "<Figure size 432x288 with 1 Axes>"
      ]
     },
     "metadata": {
      "needs_background": "light"
     },
     "output_type": "display_data"
    }
   ],
   "source": [
    "death_df.sort_values(\"Deaths\",ascending=False).head(20).plot(x=\"Country_Region\",y=\"Deaths\",kind=\"barh\")"
   ]
  },
  {
   "cell_type": "code",
   "execution_count": 75,
   "metadata": {},
   "outputs": [],
   "source": [
    "total_death=df['Deaths'].sum() #toplam ölüm sayısı"
   ]
  },
  {
   "cell_type": "code",
   "execution_count": 76,
   "metadata": {},
   "outputs": [
    {
     "data": {
      "text/plain": [
       "2083401.0"
      ]
     },
     "execution_count": 76,
     "metadata": {},
     "output_type": "execute_result"
    }
   ],
   "source": [
    "total_death"
   ]
  },
  {
   "cell_type": "code",
   "execution_count": 77,
   "metadata": {},
   "outputs": [
    {
     "data": {
      "text/html": [
       "<div>\n",
       "<style scoped>\n",
       "    .dataframe tbody tr th:only-of-type {\n",
       "        vertical-align: middle;\n",
       "    }\n",
       "\n",
       "    .dataframe tbody tr th {\n",
       "        vertical-align: top;\n",
       "    }\n",
       "\n",
       "    .dataframe thead th {\n",
       "        text-align: right;\n",
       "    }\n",
       "</style>\n",
       "<table border=\"1\" class=\"dataframe\">\n",
       "  <thead>\n",
       "    <tr style=\"text-align: right;\">\n",
       "      <th></th>\n",
       "      <th>Admin2</th>\n",
       "      <th>Province_State</th>\n",
       "      <th>Lat</th>\n",
       "      <th>Long_</th>\n",
       "      <th>Confirmed</th>\n",
       "      <th>Deaths</th>\n",
       "      <th>Recovered</th>\n",
       "      <th>Active</th>\n",
       "      <th>Incident_Rate</th>\n",
       "      <th>Case_Fatality_Ratio</th>\n",
       "    </tr>\n",
       "  </thead>\n",
       "  <tbody>\n",
       "    <tr>\n",
       "      <th>Admin2</th>\n",
       "      <td>NaN</td>\n",
       "      <td>NaN</td>\n",
       "      <td>NaN</td>\n",
       "      <td>NaN</td>\n",
       "      <td>NaN</td>\n",
       "      <td>NaN</td>\n",
       "      <td>NaN</td>\n",
       "      <td>NaN</td>\n",
       "      <td>NaN</td>\n",
       "      <td>NaN</td>\n",
       "    </tr>\n",
       "    <tr>\n",
       "      <th>Province_State</th>\n",
       "      <td>NaN</td>\n",
       "      <td>NaN</td>\n",
       "      <td>NaN</td>\n",
       "      <td>NaN</td>\n",
       "      <td>NaN</td>\n",
       "      <td>NaN</td>\n",
       "      <td>NaN</td>\n",
       "      <td>NaN</td>\n",
       "      <td>NaN</td>\n",
       "      <td>NaN</td>\n",
       "    </tr>\n",
       "    <tr>\n",
       "      <th>Lat</th>\n",
       "      <td>NaN</td>\n",
       "      <td>NaN</td>\n",
       "      <td>1.000000</td>\n",
       "      <td>0.008800</td>\n",
       "      <td>0.176525</td>\n",
       "      <td>0.091914</td>\n",
       "      <td>NaN</td>\n",
       "      <td>NaN</td>\n",
       "      <td>0.461242</td>\n",
       "      <td>-0.064969</td>\n",
       "    </tr>\n",
       "    <tr>\n",
       "      <th>Long_</th>\n",
       "      <td>NaN</td>\n",
       "      <td>NaN</td>\n",
       "      <td>0.008800</td>\n",
       "      <td>1.000000</td>\n",
       "      <td>0.049356</td>\n",
       "      <td>0.040296</td>\n",
       "      <td>NaN</td>\n",
       "      <td>NaN</td>\n",
       "      <td>0.034698</td>\n",
       "      <td>-0.071749</td>\n",
       "    </tr>\n",
       "    <tr>\n",
       "      <th>Confirmed</th>\n",
       "      <td>NaN</td>\n",
       "      <td>NaN</td>\n",
       "      <td>0.176525</td>\n",
       "      <td>0.049356</td>\n",
       "      <td>1.000000</td>\n",
       "      <td>0.752044</td>\n",
       "      <td>NaN</td>\n",
       "      <td>NaN</td>\n",
       "      <td>0.280177</td>\n",
       "      <td>-0.088495</td>\n",
       "    </tr>\n",
       "    <tr>\n",
       "      <th>Deaths</th>\n",
       "      <td>NaN</td>\n",
       "      <td>NaN</td>\n",
       "      <td>0.091914</td>\n",
       "      <td>0.040296</td>\n",
       "      <td>0.752044</td>\n",
       "      <td>1.000000</td>\n",
       "      <td>NaN</td>\n",
       "      <td>NaN</td>\n",
       "      <td>0.086332</td>\n",
       "      <td>0.021459</td>\n",
       "    </tr>\n",
       "    <tr>\n",
       "      <th>Recovered</th>\n",
       "      <td>NaN</td>\n",
       "      <td>NaN</td>\n",
       "      <td>NaN</td>\n",
       "      <td>NaN</td>\n",
       "      <td>NaN</td>\n",
       "      <td>NaN</td>\n",
       "      <td>NaN</td>\n",
       "      <td>NaN</td>\n",
       "      <td>NaN</td>\n",
       "      <td>NaN</td>\n",
       "    </tr>\n",
       "    <tr>\n",
       "      <th>Active</th>\n",
       "      <td>NaN</td>\n",
       "      <td>NaN</td>\n",
       "      <td>NaN</td>\n",
       "      <td>NaN</td>\n",
       "      <td>NaN</td>\n",
       "      <td>NaN</td>\n",
       "      <td>NaN</td>\n",
       "      <td>NaN</td>\n",
       "      <td>NaN</td>\n",
       "      <td>NaN</td>\n",
       "    </tr>\n",
       "    <tr>\n",
       "      <th>Incident_Rate</th>\n",
       "      <td>NaN</td>\n",
       "      <td>NaN</td>\n",
       "      <td>0.461242</td>\n",
       "      <td>0.034698</td>\n",
       "      <td>0.280177</td>\n",
       "      <td>0.086332</td>\n",
       "      <td>NaN</td>\n",
       "      <td>NaN</td>\n",
       "      <td>1.000000</td>\n",
       "      <td>-0.354353</td>\n",
       "    </tr>\n",
       "    <tr>\n",
       "      <th>Case_Fatality_Ratio</th>\n",
       "      <td>NaN</td>\n",
       "      <td>NaN</td>\n",
       "      <td>-0.064969</td>\n",
       "      <td>-0.071749</td>\n",
       "      <td>-0.088495</td>\n",
       "      <td>0.021459</td>\n",
       "      <td>NaN</td>\n",
       "      <td>NaN</td>\n",
       "      <td>-0.354353</td>\n",
       "      <td>1.000000</td>\n",
       "    </tr>\n",
       "  </tbody>\n",
       "</table>\n",
       "</div>"
      ],
      "text/plain": [
       "                     Admin2  Province_State       Lat     Long_  Confirmed  \\\n",
       "Admin2                  NaN             NaN       NaN       NaN        NaN   \n",
       "Province_State          NaN             NaN       NaN       NaN        NaN   \n",
       "Lat                     NaN             NaN  1.000000  0.008800   0.176525   \n",
       "Long_                   NaN             NaN  0.008800  1.000000   0.049356   \n",
       "Confirmed               NaN             NaN  0.176525  0.049356   1.000000   \n",
       "Deaths                  NaN             NaN  0.091914  0.040296   0.752044   \n",
       "Recovered               NaN             NaN       NaN       NaN        NaN   \n",
       "Active                  NaN             NaN       NaN       NaN        NaN   \n",
       "Incident_Rate           NaN             NaN  0.461242  0.034698   0.280177   \n",
       "Case_Fatality_Ratio     NaN             NaN -0.064969 -0.071749  -0.088495   \n",
       "\n",
       "                       Deaths  Recovered  Active  Incident_Rate  \\\n",
       "Admin2                    NaN        NaN     NaN            NaN   \n",
       "Province_State            NaN        NaN     NaN            NaN   \n",
       "Lat                  0.091914        NaN     NaN       0.461242   \n",
       "Long_                0.040296        NaN     NaN       0.034698   \n",
       "Confirmed            0.752044        NaN     NaN       0.280177   \n",
       "Deaths               1.000000        NaN     NaN       0.086332   \n",
       "Recovered                 NaN        NaN     NaN            NaN   \n",
       "Active                    NaN        NaN     NaN            NaN   \n",
       "Incident_Rate        0.086332        NaN     NaN       1.000000   \n",
       "Case_Fatality_Ratio  0.021459        NaN     NaN      -0.354353   \n",
       "\n",
       "                     Case_Fatality_Ratio  \n",
       "Admin2                               NaN  \n",
       "Province_State                       NaN  \n",
       "Lat                            -0.064969  \n",
       "Long_                          -0.071749  \n",
       "Confirmed                      -0.088495  \n",
       "Deaths                          0.021459  \n",
       "Recovered                            NaN  \n",
       "Active                               NaN  \n",
       "Incident_Rate                  -0.354353  \n",
       "Case_Fatality_Ratio             1.000000  "
      ]
     },
     "execution_count": 77,
     "metadata": {},
     "output_type": "execute_result"
    }
   ],
   "source": [
    "df.corr() #korelasyon"
   ]
  },
  {
   "cell_type": "code",
   "execution_count": 78,
   "metadata": {},
   "outputs": [
    {
     "data": {
      "text/plain": [
       "<AxesSubplot:>"
      ]
     },
     "execution_count": 78,
     "metadata": {},
     "output_type": "execute_result"
    },
    {
     "data": {
      "image/png": "[encoded data removed]",
      "text/plain": [
       "<Figure size 432x288 with 2 Axes>"
      ]
     },
     "metadata": {
      "needs_background": "light"
     },
     "output_type": "display_data"
    }
   ],
   "source": [
    "sns.heatmap(df.corr(),annot=True)"
   ]
  },
  {
   "cell_type": "code",
   "execution_count": 126,
   "metadata": {},
   "outputs": [],
   "source": [
    "max_death=max(df.groupby(\"Country_Region\")[\"Deaths\"].sum() ) #en yüksek ölüm oranını verir"
   ]
  },
  {
   "cell_type": "code",
   "execution_count": 127,
   "metadata": {},
   "outputs": [
    {
     "data": {
      "text/plain": [
       "158235.0"
      ]
     },
     "execution_count": 127,
     "metadata": {},
     "output_type": "execute_result"
    }
   ],
   "source": [
    "death_df"
   ]
  },
  {
   "cell_type": "code",
   "execution_count": 142,
   "metadata": {},
   "outputs": [],
   "source": [
    "max_death1 = df.groupby(\"Country_Region\")[\"Deaths\"].sum().max()  "
   ]
  },
  {
   "cell_type": "code",
   "execution_count": 143,
   "metadata": {},
   "outputs": [
    {
     "data": {
      "text/plain": [
       "158235.0"
      ]
     },
     "execution_count": 143,
     "metadata": {},
     "output_type": "execute_result"
    }
   ],
   "source": [
    "max_death"
   ]
  },
  {
   "cell_type": "code",
   "execution_count": 155,
   "metadata": {},
   "outputs": [],
   "source": [
    "max_deathcountry = df.groupby(\"Deaths\").get_group(158235.0)[\"Country_Region\"].reset_index() #ölüm oranı en yüksek olan ülkeyi verir"
   ]
  },
  {
   "cell_type": "code",
   "execution_count": 156,
   "metadata": {},
   "outputs": [
    {
     "data": {
      "text/html": [
       "<div>\n",
       "<style scoped>\n",
       "    .dataframe tbody tr th:only-of-type {\n",
       "        vertical-align: middle;\n",
       "    }\n",
       "\n",
       "    .dataframe tbody tr th {\n",
       "        vertical-align: top;\n",
       "    }\n",
       "\n",
       "    .dataframe thead th {\n",
       "        text-align: right;\n",
       "    }\n",
       "</style>\n",
       "<table border=\"1\" class=\"dataframe\">\n",
       "  <thead>\n",
       "    <tr style=\"text-align: right;\">\n",
       "      <th></th>\n",
       "      <th>index</th>\n",
       "      <th>Country_Region</th>\n",
       "    </tr>\n",
       "  </thead>\n",
       "  <tbody>\n",
       "    <tr>\n",
       "      <th>0</th>\n",
       "      <td>287</td>\n",
       "      <td>Indonesia</td>\n",
       "    </tr>\n",
       "  </tbody>\n",
       "</table>\n",
       "</div>"
      ],
      "text/plain": [
       "   index Country_Region\n",
       "0    287      Indonesia"
      ]
     },
     "execution_count": 156,
     "metadata": {},
     "output_type": "execute_result"
    }
   ],
   "source": [
    "max_deathcountry"
   ]
  },
  {
   "cell_type": "code",
   "execution_count": null,
   "metadata": {},
   "outputs": [],
   "source": []
  },
  {
   "cell_type": "code",
   "execution_count": null,
   "metadata": {},
   "outputs": [],
   "source": []
  }
 ],
 "metadata": {
  "kernelspec": {
   "display_name": "Python 3",
   "language": "python",
   "name": "python3"
  },
  "language_info": {
   "codemirror_mode": {
    "name": "ipython",
    "version": 3
   },
   "file_extension": ".py",
   "mimetype": "text/x-python",
   "name": "python",
   "nbconvert_exporter": "python",
   "pygments_lexer": "ipython3",
   "version": "3.8.5"
  }
 },
 "nbformat": 4,
 "nbformat_minor": 4
}
